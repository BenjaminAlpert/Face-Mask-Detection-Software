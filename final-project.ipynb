{
 "cells": [
  {
   "cell_type": "code",
   "execution_count": 1,
   "id": "c1519c1b",
   "metadata": {},
   "outputs": [],
   "source": [
    "import tensorflow as tf\n",
    "#import tensorflowjs as tfjs\n",
    "from matplotlib import pyplot\n",
    "import numpy as np\n",
    "import os\n",
    "import json"
   ]
  },
  {
   "cell_type": "code",
   "execution_count": 2,
   "id": "918712a8",
   "metadata": {},
   "outputs": [
    {
     "name": "stdout",
     "output_type": "stream",
     "text": [
      "Found 79696 files belonging to 4 classes.\n",
      "Using 63757 files for training.\n"
     ]
    }
   ],
   "source": [
    "train_ds = tf.keras.utils.image_dataset_from_directory(\"data-150x150\",\n",
    "  validation_split=0.2,\n",
    "  subset=\"training\",\n",
    "  seed=123,\n",
    "  image_size=(150, 150),\n",
    "  batch_size=32)"
   ]
  },
  {
   "cell_type": "code",
   "execution_count": 3,
   "id": "68af4720",
   "metadata": {},
   "outputs": [
    {
     "name": "stdout",
     "output_type": "stream",
     "text": [
      "Found 79696 files belonging to 4 classes.\n",
      "Using 15939 files for validation.\n"
     ]
    }
   ],
   "source": [
    "val_ds = tf.keras.utils.image_dataset_from_directory(\"data-150x150\",\n",
    "  validation_split=0.2,\n",
    "  subset=\"validation\",\n",
    "  seed=123,\n",
    "  image_size=(150, 150),\n",
    "  batch_size=32)"
   ]
  },
  {
   "cell_type": "code",
   "execution_count": 4,
   "id": "378fd011",
   "metadata": {},
   "outputs": [],
   "source": [
    "AUTOTUNE = tf.data.AUTOTUNE\n",
    "\n",
    "train_ds = train_ds.cache().shuffle(1000).prefetch(buffer_size=AUTOTUNE)\n",
    "val_ds = val_ds.cache().prefetch(buffer_size=AUTOTUNE)"
   ]
  },
  {
   "cell_type": "code",
   "execution_count": 5,
   "id": "0bdf2884",
   "metadata": {},
   "outputs": [],
   "source": [
    "data_augmentation = tf.keras.Sequential(\n",
    "  [\n",
    "    tf.keras.layers.RandomFlip(\"horizontal\", input_shape=(150,150,3)),\n",
    "    tf.keras.layers.RandomRotation(0.2),\n",
    "    tf.keras.layers.RandomZoom(0.2),\n",
    "    tf.keras.layers.RandomContrast(0.2),\n",
    "    tf.keras.layers.RandomCrop(120, 120) #height, width\n",
    "  ]\n",
    ")"
   ]
  },
  {
   "cell_type": "code",
   "execution_count": 6,
   "id": "13416f35",
   "metadata": {},
   "outputs": [],
   "source": [
    "num_classes = 4\n",
    "models = {}"
   ]
  },
  {
   "cell_type": "code",
   "execution_count": 7,
   "id": "42d39ae6",
   "metadata": {},
   "outputs": [],
   "source": [
    "models[\"CNN\"] = tf.keras.Sequential([\n",
    "  data_augmentation,\n",
    "  tf.keras.layers.Rescaling(1./255, input_shape=(150, 150, 3)),\n",
    "  tf.keras.layers.InputLayer(input_shape=(150,150,3)),\n",
    "  tf.keras.layers.Conv2D(16, 3, padding='same', activation='relu'),\n",
    "  tf.keras.layers.MaxPooling2D(),\n",
    "  tf.keras.layers.Conv2D(32, 3, padding='same', activation='relu'),\n",
    "  tf.keras.layers.MaxPooling2D(),\n",
    "  tf.keras.layers.Conv2D(64, 3, padding='same', activation='relu'),\n",
    "  tf.keras.layers.MaxPooling2D(),\n",
    "  tf.keras.layers.Conv2D(128, 3, padding='same', activation='relu'),\n",
    "  tf.keras.layers.MaxPooling2D(),\n",
    "  tf.keras.layers.Conv2D(256, 3, padding='same', activation='relu'),\n",
    "  tf.keras.layers.MaxPooling2D(),\n",
    "  tf.keras.layers.Flatten(),\n",
    "  tf.keras.layers.Dense(512, activation='relu'),\n",
    "  tf.keras.layers.Dense(512, activation='relu'),\n",
    "  tf.keras.layers.Dense(num_classes)\n",
    "])"
   ]
  },
  {
   "cell_type": "code",
   "execution_count": 8,
   "id": "90365d2a",
   "metadata": {},
   "outputs": [],
   "source": [
    "models[\"MLP\"] = tf.keras.Sequential([\n",
    "    data_augmentation,\n",
    "    tf.keras.layers.Flatten(input_shape=(150, 150, 3)),\n",
    "    tf.keras.layers.Dense(128, activation='relu'),\n",
    "    tf.keras.layers.Dense(256, activation='relu'),\n",
    "    tf.keras.layers.Dense(512, activation='relu'),\n",
    "    tf.keras.layers.Dense(num_classes)\n",
    "])"
   ]
  },
  {
   "cell_type": "code",
   "execution_count": 9,
   "id": "0f81adaa",
   "metadata": {},
   "outputs": [],
   "source": [
    "for model in models.values():\n",
    "    model.compile(optimizer='adam',\n",
    "              loss=tf.keras.losses.SparseCategoricalCrossentropy(from_logits=True),\n",
    "              metrics=['accuracy'])"
   ]
  },
  {
   "cell_type": "code",
   "execution_count": 10,
   "id": "f8b3bae6",
   "metadata": {},
   "outputs": [
    {
     "name": "stdout",
     "output_type": "stream",
     "text": [
      "Model: \"sequential_1\"\n",
      "_________________________________________________________________\n",
      "Layer (type)                 Output Shape              Param #   \n",
      "=================================================================\n",
      "sequential (Sequential)      (None, 120, 120, 3)       0         \n",
      "_________________________________________________________________\n",
      "rescaling (Rescaling)        (None, 120, 120, 3)       0         \n",
      "_________________________________________________________________\n",
      "input_1 (InputLayer)         multiple                  0         \n",
      "_________________________________________________________________\n",
      "conv2d (Conv2D)              (None, 120, 120, 16)      448       \n",
      "_________________________________________________________________\n",
      "max_pooling2d (MaxPooling2D) (None, 60, 60, 16)        0         \n",
      "_________________________________________________________________\n",
      "conv2d_1 (Conv2D)            (None, 60, 60, 32)        4640      \n",
      "_________________________________________________________________\n",
      "max_pooling2d_1 (MaxPooling2 (None, 30, 30, 32)        0         \n",
      "_________________________________________________________________\n",
      "conv2d_2 (Conv2D)            (None, 30, 30, 64)        18496     \n",
      "_________________________________________________________________\n",
      "max_pooling2d_2 (MaxPooling2 (None, 15, 15, 64)        0         \n",
      "_________________________________________________________________\n",
      "conv2d_3 (Conv2D)            (None, 15, 15, 128)       73856     \n",
      "_________________________________________________________________\n",
      "max_pooling2d_3 (MaxPooling2 (None, 7, 7, 128)         0         \n",
      "_________________________________________________________________\n",
      "conv2d_4 (Conv2D)            (None, 7, 7, 256)         295168    \n",
      "_________________________________________________________________\n",
      "max_pooling2d_4 (MaxPooling2 (None, 3, 3, 256)         0         \n",
      "_________________________________________________________________\n",
      "flatten (Flatten)            (None, 2304)              0         \n",
      "_________________________________________________________________\n",
      "dense (Dense)                (None, 512)               1180160   \n",
      "_________________________________________________________________\n",
      "dense_1 (Dense)              (None, 512)               262656    \n",
      "_________________________________________________________________\n",
      "dense_2 (Dense)              (None, 4)                 2052      \n",
      "=================================================================\n",
      "Total params: 1,837,476\n",
      "Trainable params: 1,837,476\n",
      "Non-trainable params: 0\n",
      "_________________________________________________________________\n",
      "Model: \"sequential_2\"\n",
      "_________________________________________________________________\n",
      "Layer (type)                 Output Shape              Param #   \n",
      "=================================================================\n",
      "sequential (Sequential)      (None, 120, 120, 3)       0         \n",
      "_________________________________________________________________\n",
      "flatten_1 (Flatten)          (None, 43200)             0         \n",
      "_________________________________________________________________\n",
      "dense_3 (Dense)              (None, 128)               5529728   \n",
      "_________________________________________________________________\n",
      "dense_4 (Dense)              (None, 256)               33024     \n",
      "_________________________________________________________________\n",
      "dense_5 (Dense)              (None, 512)               131584    \n",
      "_________________________________________________________________\n",
      "dense_6 (Dense)              (None, 4)                 2052      \n",
      "=================================================================\n",
      "Total params: 5,696,388\n",
      "Trainable params: 5,696,388\n",
      "Non-trainable params: 0\n",
      "_________________________________________________________________\n"
     ]
    }
   ],
   "source": [
    "for model in models.values():\n",
    "    model.summary()"
   ]
  },
  {
   "cell_type": "code",
   "execution_count": 11,
   "id": "78e3b9ce",
   "metadata": {},
   "outputs": [],
   "source": [
    "epochs=1\n",
    "histories = {}"
   ]
  },
  {
   "cell_type": "code",
   "execution_count": 13,
   "id": "5b4da171",
   "metadata": {
    "scrolled": false
   },
   "outputs": [
    {
     "name": "stdout",
     "output_type": "stream",
     "text": [
      "Training CNN:\n",
      "1993/1993 [==============================] - 43s 21ms/step - loss: 0.4281 - accuracy: 0.8379 - val_loss: 0.4054 - val_accuracy: 0.8453\n",
      "INFO:tensorflow:Assets written to: saved_models/CNN/assets\n",
      "\n",
      "Training MLP:\n",
      "1993/1993 [==============================] - 23s 11ms/step - loss: 22.3644 - accuracy: 0.2510 - val_loss: 1.3865 - val_accuracy: 0.2444\n",
      "INFO:tensorflow:Assets written to: saved_models/MLP/assets\n",
      "\n"
     ]
    }
   ],
   "source": [
    "for name in models:\n",
    "    print(\"Training \"+name+\":\")\n",
    "    model_path = os.path.join(\"saved_models\", name)\n",
    "    history_path = os.path.join(\"saved_histories\", name+\".json\")\n",
    "    #tfjs_target_path = os.path.join(\"web-client\", \"saved_models\", name)\n",
    "    histories[name] = models[name].fit(\n",
    "      train_ds,\n",
    "      validation_data=val_ds,\n",
    "      epochs=epochs,\n",
    "    )\n",
    "    models[name].save(model_path)\n",
    "    models[name].save(model_path+\".h5\")\n",
    "    #tfjs.converters.save_keras_model(model[name], tfjs_target_path)\n",
    "    json.dump(histories[name].history, open(history_path, 'w'))\n",
    "    print()"
   ]
  },
  {
   "cell_type": "code",
   "execution_count": 14,
   "id": "ff583859",
   "metadata": {},
   "outputs": [
    {
     "data": {
      "image/png": "[encoded data removed]",
      "text/plain": [
       "<Figure size 576x576 with 2 Axes>"
      ]
     },
     "metadata": {
      "needs_background": "light"
     },
     "output_type": "display_data"
    },
    {
     "data": {
      "image/png": "[encoded data removed]",
      "text/plain": [
       "<Figure size 576x576 with 2 Axes>"
      ]
     },
     "metadata": {
      "needs_background": "light"
     },
     "output_type": "display_data"
    }
   ],
   "source": [
    "for name in histories:\n",
    "    history = histories[name]\n",
    "    acc = history.history['accuracy']\n",
    "    val_acc = history.history['val_accuracy']\n",
    "\n",
    "    loss = history.history['loss']\n",
    "    val_loss = history.history['val_loss']\n",
    "\n",
    "    epochs_range = range(epochs)\n",
    "\n",
    "    pyplot.figure(figsize=(8, 8))\n",
    "    pyplot.subplot(1, 2, 1)\n",
    "    pyplot.plot(epochs_range, acc, label='Training Accuracy')\n",
    "    pyplot.plot(epochs_range, val_acc, label='Validation Accuracy')\n",
    "    pyplot.legend(loc='lower right')\n",
    "    pyplot.title(name+': Training and Validation Accuracy')\n",
    "\n",
    "    pyplot.subplot(1, 2, 2)\n",
    "    pyplot.plot(epochs_range, loss, label='Training Loss')\n",
    "    pyplot.plot(epochs_range, val_loss, label='Validation Loss')\n",
    "    pyplot.legend(loc='upper right')\n",
    "    pyplot.title(name+': Training and Validation Loss')\n",
    "    pyplot.show()"
   ]
  },
  {
   "cell_type": "code",
   "execution_count": 15,
   "id": "2666dbf2",
   "metadata": {},
   "outputs": [],
   "source": [
    "class_names = [\"Wearing Mask a Correctly Over Mouth and Nose\", \"Wearing Mask a Over Mouth, but not Over Nose\", \"Not Wearing a Mask Over Mount and Nose\", \"Not Wearing a Mask\"]"
   ]
  },
  {
   "cell_type": "code",
   "execution_count": 19,
   "id": "04cbe19d",
   "metadata": {},
   "outputs": [],
   "source": [
    "def predict(file_path):\n",
    "    \n",
    "    img = tf.keras.utils.load_img(file_path, target_size=(150, 150))\n",
    "    pyplot.imshow(img)\n",
    "\n",
    "    img_array = tf.keras.utils.img_to_array(img)\n",
    "    img_array = tf.expand_dims(img_array, 0)\n",
    "    \n",
    "    for name in models:\n",
    "        model = models[name]\n",
    "        predictions = model.predict(img_array)\n",
    "        score = tf.nn.softmax(predictions[0])\n",
    "\n",
    "\n",
    "        print(\n",
    "            \"{} predicts {} ({:.2f}% confidence)\"\n",
    "            .format(name, class_names[np.argmax(score)], 100 * np.max(score))\n",
    "        )\n",
    "    pyplot.show()"
   ]
  },
  {
   "cell_type": "code",
   "execution_count": 20,
   "id": "7a92adbf",
   "metadata": {},
   "outputs": [
    {
     "name": "stdout",
     "output_type": "stream",
     "text": [
      "CNN predicts Wearing Mask a Correctly Over Mouth and Nose (50.47% confidence)\n",
      "MLP predicts Not Wearing a Mask (25.28% confidence)\n"
     ]
    },
    {
     "data": {
      "image/png": "[encoded data removed]",
      "text/plain": [
       "<Figure size 432x288 with 1 Axes>"
      ]
     },
     "metadata": {
      "needs_background": "light"
     },
     "output_type": "display_data"
    }
   ],
   "source": [
    "predict(\"faces/benjamin/1.jpg\")"
   ]
  },
  {
   "cell_type": "code",
   "execution_count": null,
   "id": "980c0fdf",
   "metadata": {},
   "outputs": [],
   "source": [
    "predict(\"faces/benjamin/2.jpg\")"
   ]
  },
  {
   "cell_type": "code",
   "execution_count": null,
   "id": "d96091da",
   "metadata": {},
   "outputs": [],
   "source": [
    "predict(\"faces/benjamin/3.jpg\")"
   ]
  },
  {
   "cell_type": "code",
   "execution_count": null,
   "id": "a89b28a0",
   "metadata": {},
   "outputs": [],
   "source": [
    "predict(\"faces/benjamin/4.jpg\")"
   ]
  },
  {
   "cell_type": "code",
   "execution_count": null,
   "id": "16d1996e",
   "metadata": {},
   "outputs": [],
   "source": [
    "predict(\"faces/shaurya/1.jpg\")"
   ]
  },
  {
   "cell_type": "code",
   "execution_count": null,
   "id": "9ca8be90",
   "metadata": {},
   "outputs": [],
   "source": [
    "predict(\"faces/shaurya/2.jpg\")"
   ]
  },
  {
   "cell_type": "code",
   "execution_count": null,
   "id": "ba0939ed",
   "metadata": {},
   "outputs": [],
   "source": [
    "predict(\"faces/shaurya/3.jpg\")"
   ]
  },
  {
   "cell_type": "code",
   "execution_count": null,
   "id": "48255e4e",
   "metadata": {},
   "outputs": [],
   "source": [
    "predict(\"faces/shaurya/4.jpg\")"
   ]
  },
  {
   "cell_type": "code",
   "execution_count": null,
   "id": "58880e06",
   "metadata": {},
   "outputs": [],
   "source": [
    "predict(\"faces/zunyi/1.jpg\")"
   ]
  },
  {
   "cell_type": "code",
   "execution_count": null,
   "id": "5e69493f",
   "metadata": {},
   "outputs": [],
   "source": [
    "predict(\"faces/zunyi/2.jpg\")"
   ]
  },
  {
   "cell_type": "code",
   "execution_count": null,
   "id": "33e99a00",
   "metadata": {},
   "outputs": [],
   "source": [
    "predict(\"faces/zunyi/3.jpg\")"
   ]
  },
  {
   "cell_type": "code",
   "execution_count": null,
   "id": "1179e6b2",
   "metadata": {},
   "outputs": [],
   "source": [
    "predict(\"faces/zunyi/4.jpg\")"
   ]
  },
  {
   "cell_type": "code",
   "execution_count": null,
   "id": "90d94d70",
   "metadata": {},
   "outputs": [],
   "source": [
    "predict(\"faces/parisa/1.jpg\")"
   ]
  },
  {
   "cell_type": "code",
   "execution_count": null,
   "id": "e279de08",
   "metadata": {},
   "outputs": [],
   "source": [
    "predict(\"faces/parisa/2.jpg\")"
   ]
  },
  {
   "cell_type": "code",
   "execution_count": null,
   "id": "ff0cc480",
   "metadata": {},
   "outputs": [],
   "source": [
    "predict(\"faces/parisa/3.jpg\")"
   ]
  },
  {
   "cell_type": "markdown",
   "id": "636a17c2",
   "metadata": {},
   "source": [
    "## Source: https://www.tensorflow.org/tutorials/images/classification"
   ]
  }
 ],
 "metadata": {
  "kernelspec": {
   "display_name": "Python 3",
   "language": "python",
   "name": "python3"
  },
  "language_info": {
   "codemirror_mode": {
    "name": "ipython",
    "version": 3
   },
   "file_extension": ".py",
   "mimetype": "text/x-python",
   "name": "python",
   "nbconvert_exporter": "python",
   "pygments_lexer": "ipython3",
   "version": "3.6.9"
  }
 },
 "nbformat": 4,
 "nbformat_minor": 5
}
