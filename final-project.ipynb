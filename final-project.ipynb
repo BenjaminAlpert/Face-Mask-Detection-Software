{
 "cells": [
  {
   "cell_type": "markdown",
   "id": "7aacb645",
   "metadata": {},
   "source": [
    "# Attempt 1"
   ]
  },
  {
   "cell_type": "code",
   "execution_count": null,
   "id": "3dc0a07e",
   "metadata": {
    "collapsed": true
   },
   "outputs": [],
   "source": [
    "import csv\n",
    "from PIL import Image # pip install Pillow\n",
    "import numpy as np\n",
    "from matplotlib import pyplot\n",
    "from os import path\n",
    "import pandas as pd"
   ]
  },
  {
   "cell_type": "code",
   "execution_count": null,
   "id": "637313b3",
   "metadata": {
    "collapsed": true
   },
   "outputs": [],
   "source": [
    "NUM_PEOPLE_TO_READ_IN = 100\n",
    "TEST_RATIO = 0.20;"
   ]
  },
  {
   "cell_type": "code",
   "execution_count": null,
   "id": "34c95a53",
   "metadata": {
    "collapsed": true
   },
   "outputs": [],
   "source": [
    "data = {\n",
    "    \"images\":np.empty((NUM_PEOPLE_TO_READ_IN*4,50,50,3)),\n",
    "    \"X\":np.empty((NUM_PEOPLE_TO_READ_IN*4,50*50*3)),\n",
    "    \"Y\":np.empty((NUM_PEOPLE_TO_READ_IN*4))\n",
    "}\n",
    "\n",
    "counter = 0\n",
    "with open('metadata.csv', newline='') as csvfile:\n",
    "    rows = csv.reader(csvfile, delimiter=',', quotechar='\"')\n",
    "    for row in tuple(rows)[1:]:\n",
    "        \n",
    "        mask_type = int(row[1])\n",
    "        filename = row[5]\n",
    "        \n",
    "        try:\n",
    "            image = np.array(Image.open(path.join(\"data\", filename))) / 255.0\n",
    "        except FileNotFoundError:\n",
    "            image = np.zeros([50,50,3]) # USED FOR DISPLAYING NICELY BELOW / TODO: MAKE SURE TO FILTER THESE AT SOME POINT\n",
    "            \n",
    "        data[\"images\"][counter] = image\n",
    "        data[\"X\"][counter] = np.reshape(image, 50*50*3)\n",
    "        data[\"Y\"][counter] = mask_type\n",
    "        \n",
    "        counter += 1\n",
    "        if(counter >= NUM_PEOPLE_TO_READ_IN*4):\n",
    "            break\n",
    "            \n",
    "    data[\"images\"] = data[\"images\"]\n",
    "    data[\"X\"] = data[\"X\"]\n",
    "    data[\"Y\"] = data[\"Y\"].astype(\"int\")"
   ]
  },
  {
   "cell_type": "code",
   "execution_count": null,
   "id": "cb6f2d41",
   "metadata": {
    "collapsed": true
   },
   "outputs": [],
   "source": [
    "print(data[\"images\"].shape)\n",
    "print(data[\"X\"].shape)\n",
    "print(data[\"Y\"].shape)"
   ]
  },
  {
   "cell_type": "code",
   "execution_count": null,
   "id": "ddd39554",
   "metadata": {
    "collapsed": true
   },
   "outputs": [],
   "source": [
    "pd.DataFrame(data[\"X\"])"
   ]
  },
  {
   "cell_type": "code",
   "execution_count": null,
   "id": "74f289d2",
   "metadata": {
    "collapsed": true
   },
   "outputs": [],
   "source": [
    "pd.DataFrame(data[\"Y\"], columns=np.array([\"Y\"]))"
   ]
  },
  {
   "cell_type": "code",
   "execution_count": null,
   "id": "cc3ce9fd",
   "metadata": {
    "collapsed": true
   },
   "outputs": [],
   "source": [
    "# Maximum of 10000 people (~240MB for .ipynb file) for full dataset\n",
    "# Maximum of about 1045 people (25MB for .ipynb file) for Jupyter Notebook\n",
    "# Maximum of about 4180 people (100MB for .ipynb file) for github upload\n",
    "NUM_PEOPLE_TO_PLOT=100"
   ]
  },
  {
   "cell_type": "code",
   "execution_count": null,
   "id": "91202667",
   "metadata": {
    "collapsed": true
   },
   "outputs": [],
   "source": [
    "pyplot.figure(figsize=(4, NUM_PEOPLE_TO_PLOT))\n",
    "counter = 0\n",
    "for img in data[\"images\"]:\n",
    "    pyplot.subplot(NUM_PEOPLE_TO_PLOT, 4, counter+1)\n",
    "    pyplot.axis(\"off\")\n",
    "    pyplot.imshow(img)\n",
    "    counter += 1\n",
    "    if(counter >= NUM_PEOPLE_TO_PLOT):\n",
    "        break;\n",
    "    "
   ]
  },
  {
   "cell_type": "code",
   "execution_count": null,
   "id": "17b407cf",
   "metadata": {
    "collapsed": true
   },
   "outputs": [],
   "source": [
    "shuffler = np.random.permutation(NUM_PEOPLE_TO_READ_IN)\n",
    "\n",
    "cut_index = int(NUM_PEOPLE_TO_READ_IN*TEST_RATIO)\n",
    "\n",
    "x_scaled = data[\"X\"]*2-1\n",
    "\n",
    "x_shuffled = x_scaled[shuffler]\n",
    "y_shuffled = data[\"Y\"][shuffler]\n",
    "\n",
    "x_train = x_shuffled[cut_index:]\n",
    "x_test = x_shuffled[0:cut_index]\n",
    "\n",
    "y_train = y_shuffled[cut_index:]\n",
    "y_test = y_shuffled[0:cut_index]\n"
   ]
  },
  {
   "cell_type": "code",
   "execution_count": null,
   "id": "c5378c4c",
   "metadata": {
    "collapsed": true
   },
   "outputs": [],
   "source": [
    "print(data[\"images\"].shape)\n",
    "\n",
    "print(x_train.shape)\n",
    "print(x_test.shape)\n",
    "\n",
    "print(y_train.shape)\n",
    "print(y_test.shape)"
   ]
  },
  {
   "cell_type": "markdown",
   "id": "eedd96ea",
   "metadata": {},
   "source": [
    "# Attempt 2"
   ]
  },
  {
   "cell_type": "markdown",
   "id": "636a17c2",
   "metadata": {},
   "source": [
    "## Source: https://www.tensorflow.org/tutorials/images/classification"
   ]
  },
  {
   "cell_type": "code",
   "execution_count": 1,
   "id": "c1519c1b",
   "metadata": {},
   "outputs": [
    {
     "name": "stderr",
     "output_type": "stream",
     "text": [
      "2021-10-25 17:03:13.266079: W tensorflow/stream_executor/platform/default/dso_loader.cc:64] Could not load dynamic library 'libcudart.so.11.0'; dlerror: libcudart.so.11.0: cannot open shared object file: No such file or directory\n",
      "2021-10-25 17:03:13.266107: I tensorflow/stream_executor/cuda/cudart_stub.cc:29] Ignore above cudart dlerror if you do not have a GPU set up on your machine.\n"
     ]
    }
   ],
   "source": [
    "import tensorflow as tf\n",
    "from matplotlib import pyplot\n",
    "import numpy as np"
   ]
  },
  {
   "cell_type": "code",
   "execution_count": 2,
   "id": "918712a8",
   "metadata": {},
   "outputs": [
    {
     "name": "stdout",
     "output_type": "stream",
     "text": [
      "Found 39698 files belonging to 4 classes.\n",
      "Using 31759 files for training.\n"
     ]
    },
    {
     "name": "stderr",
     "output_type": "stream",
     "text": [
      "2021-10-25 17:03:20.765701: W tensorflow/stream_executor/platform/default/dso_loader.cc:64] Could not load dynamic library 'libcuda.so.1'; dlerror: libcuda.so.1: cannot open shared object file: No such file or directory\n",
      "2021-10-25 17:03:20.765730: W tensorflow/stream_executor/cuda/cuda_driver.cc:269] failed call to cuInit: UNKNOWN ERROR (303)\n",
      "2021-10-25 17:03:20.765775: I tensorflow/stream_executor/cuda/cuda_diagnostics.cc:156] kernel driver does not appear to be running on this host (benjamin-XPS-13-9370): /proc/driver/nvidia/version does not exist\n",
      "2021-10-25 17:03:20.766121: I tensorflow/core/platform/cpu_feature_guard.cc:142] This TensorFlow binary is optimized with oneAPI Deep Neural Network Library (oneDNN) to use the following CPU instructions in performance-critical operations:  AVX2 FMA\n",
      "To enable them in other operations, rebuild TensorFlow with the appropriate compiler flags.\n"
     ]
    }
   ],
   "source": [
    "train_ds = tf.keras.utils.image_dataset_from_directory(\"data\",\n",
    "  validation_split=0.2,\n",
    "  subset=\"training\",\n",
    "  seed=123,\n",
    "  image_size=(50, 50),\n",
    "  batch_size=32)"
   ]
  },
  {
   "cell_type": "code",
   "execution_count": 3,
   "id": "68af4720",
   "metadata": {},
   "outputs": [
    {
     "name": "stdout",
     "output_type": "stream",
     "text": [
      "Found 39698 files belonging to 4 classes.\n",
      "Using 7939 files for validation.\n"
     ]
    }
   ],
   "source": [
    "val_ds = tf.keras.utils.image_dataset_from_directory(\"data\",\n",
    "  validation_split=0.2,\n",
    "  subset=\"validation\",\n",
    "  seed=123,\n",
    "  image_size=(50, 50),\n",
    "  batch_size=32)"
   ]
  },
  {
   "cell_type": "code",
   "execution_count": 4,
   "id": "2666dbf2",
   "metadata": {},
   "outputs": [],
   "source": [
    "class_names = [\"1\",\"2\",\"3\",\"4\"]"
   ]
  },
  {
   "cell_type": "code",
   "execution_count": 5,
   "id": "378fd011",
   "metadata": {},
   "outputs": [],
   "source": [
    "AUTOTUNE = tf.data.AUTOTUNE\n",
    "\n",
    "train_ds = train_ds.cache().shuffle(1000).prefetch(buffer_size=AUTOTUNE)\n",
    "val_ds = val_ds.cache().prefetch(buffer_size=AUTOTUNE)"
   ]
  },
  {
   "cell_type": "code",
   "execution_count": 6,
   "id": "7d9121e1",
   "metadata": {},
   "outputs": [],
   "source": [
    "normalization_layer = tf.keras.layers.Rescaling(1./255)"
   ]
  },
  {
   "cell_type": "code",
   "execution_count": 7,
   "id": "42d39ae6",
   "metadata": {},
   "outputs": [],
   "source": [
    "num_classes = 4\n",
    "\n",
    "model =  tf.keras.Sequential([\n",
    "  tf.keras.layers.Rescaling(1./255, input_shape=(50, 50, 3)),\n",
    "  tf.keras.layers.Conv2D(16, 3, padding='same', activation='relu'),\n",
    "  tf.keras.layers.MaxPooling2D(),\n",
    "  tf.keras.layers.Conv2D(32, 3, padding='same', activation='relu'),\n",
    "  tf.keras.layers.MaxPooling2D(),\n",
    "  tf.keras.layers.Conv2D(64, 3, padding='same', activation='relu'),\n",
    "  tf.keras.layers.MaxPooling2D(),\n",
    "  tf.keras.layers.Flatten(),\n",
    "  tf.keras.layers.Dense(128, activation='relu'),\n",
    "  tf.keras.layers.Dense(num_classes)\n",
    "])"
   ]
  },
  {
   "cell_type": "code",
   "execution_count": 8,
   "id": "0f81adaa",
   "metadata": {},
   "outputs": [],
   "source": [
    "model.compile(optimizer='adam',\n",
    "              loss=tf.keras.losses.SparseCategoricalCrossentropy(from_logits=True),\n",
    "              metrics=['accuracy'])"
   ]
  },
  {
   "cell_type": "code",
   "execution_count": 9,
   "id": "f8b3bae6",
   "metadata": {},
   "outputs": [
    {
     "name": "stdout",
     "output_type": "stream",
     "text": [
      "Model: \"sequential\"\n",
      "_________________________________________________________________\n",
      "Layer (type)                 Output Shape              Param #   \n",
      "=================================================================\n",
      "rescaling_1 (Rescaling)      (None, 50, 50, 3)         0         \n",
      "_________________________________________________________________\n",
      "conv2d (Conv2D)              (None, 50, 50, 16)        448       \n",
      "_________________________________________________________________\n",
      "max_pooling2d (MaxPooling2D) (None, 25, 25, 16)        0         \n",
      "_________________________________________________________________\n",
      "conv2d_1 (Conv2D)            (None, 25, 25, 32)        4640      \n",
      "_________________________________________________________________\n",
      "max_pooling2d_1 (MaxPooling2 (None, 12, 12, 32)        0         \n",
      "_________________________________________________________________\n",
      "conv2d_2 (Conv2D)            (None, 12, 12, 64)        18496     \n",
      "_________________________________________________________________\n",
      "max_pooling2d_2 (MaxPooling2 (None, 6, 6, 64)          0         \n",
      "_________________________________________________________________\n",
      "flatten (Flatten)            (None, 2304)              0         \n",
      "_________________________________________________________________\n",
      "dense (Dense)                (None, 128)               295040    \n",
      "_________________________________________________________________\n",
      "dense_1 (Dense)              (None, 4)                 516       \n",
      "=================================================================\n",
      "Total params: 319,140\n",
      "Trainable params: 319,140\n",
      "Non-trainable params: 0\n",
      "_________________________________________________________________\n"
     ]
    }
   ],
   "source": [
    "model.summary()"
   ]
  },
  {
   "cell_type": "code",
   "execution_count": 10,
   "id": "5b4da171",
   "metadata": {},
   "outputs": [
    {
     "name": "stdout",
     "output_type": "stream",
     "text": [
      "Epoch 1/10\n"
     ]
    },
    {
     "name": "stderr",
     "output_type": "stream",
     "text": [
      "2021-10-25 17:03:40.341397: I tensorflow/compiler/mlir/mlir_graph_optimization_pass.cc:185] None of the MLIR Optimization Passes are enabled (registered 2)\n"
     ]
    },
    {
     "name": "stdout",
     "output_type": "stream",
     "text": [
      "993/993 [==============================] - 45s 43ms/step - loss: 0.8477 - accuracy: 0.6311 - val_loss: 0.6692 - val_accuracy: 0.7331\n",
      "Epoch 2/10\n",
      "993/993 [==============================] - 42s 42ms/step - loss: 0.5601 - accuracy: 0.7802 - val_loss: 0.5064 - val_accuracy: 0.8078\n",
      "Epoch 3/10\n",
      "993/993 [==============================] - 42s 42ms/step - loss: 0.4510 - accuracy: 0.8282 - val_loss: 0.4345 - val_accuracy: 0.8381\n",
      "Epoch 4/10\n",
      "993/993 [==============================] - 41s 42ms/step - loss: 0.3840 - accuracy: 0.8548 - val_loss: 0.4174 - val_accuracy: 0.8400\n",
      "Epoch 5/10\n",
      "993/993 [==============================] - 46s 47ms/step - loss: 0.3356 - accuracy: 0.8716 - val_loss: 0.3969 - val_accuracy: 0.8582\n",
      "Epoch 6/10\n",
      "993/993 [==============================] - 42s 42ms/step - loss: 0.2930 - accuracy: 0.8872 - val_loss: 0.3929 - val_accuracy: 0.8617\n",
      "Epoch 7/10\n",
      "993/993 [==============================] - 42s 42ms/step - loss: 0.2488 - accuracy: 0.9054 - val_loss: 0.3903 - val_accuracy: 0.8608\n",
      "Epoch 8/10\n",
      "993/993 [==============================] - 43s 44ms/step - loss: 0.2094 - accuracy: 0.9206 - val_loss: 0.4448 - val_accuracy: 0.8585\n",
      "Epoch 9/10\n",
      "993/993 [==============================] - 43s 43ms/step - loss: 0.1775 - accuracy: 0.9330 - val_loss: 0.4734 - val_accuracy: 0.8544\n",
      "Epoch 10/10\n",
      "993/993 [==============================] - 43s 43ms/step - loss: 0.1443 - accuracy: 0.9467 - val_loss: 0.5229 - val_accuracy: 0.8407\n"
     ]
    }
   ],
   "source": [
    "epochs=10\n",
    "history = model.fit(\n",
    "  train_ds,\n",
    "  validation_data=val_ds,\n",
    "  epochs=epochs\n",
    ")"
   ]
  },
  {
   "cell_type": "code",
   "execution_count": 11,
   "id": "ff583859",
   "metadata": {},
   "outputs": [
    {
     "data": {
      "image/png": "[encoded data removed]",
      "text/plain": [
       "<Figure size 576x576 with 2 Axes>"
      ]
     },
     "metadata": {
      "needs_background": "light"
     },
     "output_type": "display_data"
    }
   ],
   "source": [
    "acc = history.history['accuracy']\n",
    "val_acc = history.history['val_accuracy']\n",
    "\n",
    "loss = history.history['loss']\n",
    "val_loss = history.history['val_loss']\n",
    "\n",
    "epochs_range = range(epochs)\n",
    "\n",
    "pyplot.figure(figsize=(8, 8))\n",
    "pyplot.subplot(1, 2, 1)\n",
    "pyplot.plot(epochs_range, acc, label='Training Accuracy')\n",
    "pyplot.plot(epochs_range, val_acc, label='Validation Accuracy')\n",
    "pyplot.legend(loc='lower right')\n",
    "pyplot.title('Training and Validation Accuracy')\n",
    "\n",
    "pyplot.subplot(1, 2, 2)\n",
    "pyplot.plot(epochs_range, loss, label='Training Loss')\n",
    "pyplot.plot(epochs_range, val_loss, label='Validation Loss')\n",
    "pyplot.legend(loc='upper right')\n",
    "pyplot.title('Training and Validation Loss')\n",
    "pyplot.show()"
   ]
  },
  {
   "cell_type": "code",
   "execution_count": 12,
   "id": "04cbe19d",
   "metadata": {},
   "outputs": [],
   "source": [
    "def predict(file_path):\n",
    "\n",
    "    img = tf.keras.utils.load_img(file_path, target_size=(50, 50))\n",
    "    pyplot.imshow(img)\n",
    "\n",
    "    img_array = tf.keras.utils.img_to_array(img)\n",
    "    img_array = tf.expand_dims(img_array, 0) # Create a batch\n",
    "\n",
    "    predictions = model.predict(img_array)\n",
    "    score = tf.nn.softmax(predictions[0])\n",
    "\n",
    "\n",
    "    print(\n",
    "        \"This image most likely belongs to {} with a {:.2f} percent confidence.\"\n",
    "        .format(class_names[np.argmax(score)], 100 * np.max(score))\n",
    "    )\n"
   ]
  },
  {
   "cell_type": "code",
   "execution_count": 13,
   "id": "73b32899",
   "metadata": {},
   "outputs": [
    {
     "name": "stdout",
     "output_type": "stream",
     "text": [
      "This image most likely belongs to 1 with a 97.81 percent confidence.\n"
     ]
    },
    {
     "data": {
      "image/png": "[encoded data removed]",
      "text/plain": [
       "<Figure size 432x288 with 1 Axes>"
      ]
     },
     "metadata": {
      "needs_background": "light"
     },
     "output_type": "display_data"
    }
   ],
   "source": [
    "predict(\"/home/benjamin/Downloads/PXL_20210428_170036656_reduced.jpg\")"
   ]
  },
  {
   "cell_type": "code",
   "execution_count": 14,
   "id": "305723ff",
   "metadata": {},
   "outputs": [
    {
     "name": "stdout",
     "output_type": "stream",
     "text": [
      "This image most likely belongs to 1 with a 44.86 percent confidence.\n"
     ]
    },
    {
     "data": {
      "image/png": "[encoded data removed]",
      "text/plain": [
       "<Figure size 432x288 with 1 Axes>"
      ]
     },
     "metadata": {
      "needs_background": "light"
     },
     "output_type": "display_data"
    }
   ],
   "source": [
    "predict(\"/home/benjamin/Downloads/IMG_20200113_085742_reduced.jpg\")"
   ]
  }
 ],
 "metadata": {
  "kernelspec": {
   "display_name": "Python 3 (ipykernel)",
   "language": "python",
   "name": "python3"
  },
  "language_info": {
   "codemirror_mode": {
    "name": "ipython",
    "version": 3
   },
   "file_extension": ".py",
   "mimetype": "text/x-python",
   "name": "python",
   "nbconvert_exporter": "python",
   "pygments_lexer": "ipython3",
   "version": "3.8.10"
  }
 },
 "nbformat": 4,
 "nbformat_minor": 5
}
