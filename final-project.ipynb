{
 "cells": [
  {
   "cell_type": "code",
   "execution_count": 1,
   "id": "c1519c1b",
   "metadata": {},
   "outputs": [
    {
     "ename": "ModuleNotFoundError",
     "evalue": "No module named 'tensorflowjs'",
     "output_type": "error",
     "traceback": [
      "\u001b[0;31m---------------------------------------------------------------------------\u001b[0m",
      "\u001b[0;31mModuleNotFoundError\u001b[0m                       Traceback (most recent call last)",
      "\u001b[0;32m<ipython-input-1-ff3e7028bc97>\u001b[0m in \u001b[0;36m<module>\u001b[0;34m\u001b[0m\n\u001b[1;32m      1\u001b[0m \u001b[0;32mimport\u001b[0m \u001b[0mtensorflow\u001b[0m \u001b[0;32mas\u001b[0m \u001b[0mtf\u001b[0m\u001b[0;34m\u001b[0m\u001b[0;34m\u001b[0m\u001b[0m\n\u001b[0;32m----> 2\u001b[0;31m \u001b[0;32mimport\u001b[0m \u001b[0mtensorflowjs\u001b[0m \u001b[0;32mas\u001b[0m \u001b[0mtfjs\u001b[0m\u001b[0;34m\u001b[0m\u001b[0;34m\u001b[0m\u001b[0m\n\u001b[0m\u001b[1;32m      3\u001b[0m \u001b[0;32mfrom\u001b[0m \u001b[0mmatplotlib\u001b[0m \u001b[0;32mimport\u001b[0m \u001b[0mpyplot\u001b[0m\u001b[0;34m\u001b[0m\u001b[0;34m\u001b[0m\u001b[0m\n\u001b[1;32m      4\u001b[0m \u001b[0;32mimport\u001b[0m \u001b[0mnumpy\u001b[0m \u001b[0;32mas\u001b[0m \u001b[0mnp\u001b[0m\u001b[0;34m\u001b[0m\u001b[0;34m\u001b[0m\u001b[0m\n\u001b[1;32m      5\u001b[0m \u001b[0;32mimport\u001b[0m \u001b[0mos\u001b[0m\u001b[0;34m\u001b[0m\u001b[0;34m\u001b[0m\u001b[0m\n",
      "\u001b[0;31mModuleNotFoundError\u001b[0m: No module named 'tensorflowjs'"
     ]
    }
   ],
   "source": [
    "import tensorflow as tf\n",
    "#import tensorflowjs as tfjs\n",
    "from matplotlib import pyplot\n",
    "import numpy as np\n",
    "import os\n",
    "import json"
   ]
  },
  {
   "cell_type": "code",
   "execution_count": null,
   "id": "918712a8",
   "metadata": {},
   "outputs": [],
   "source": [
    "train_ds = tf.keras.utils.image_dataset_from_directory(\"data-150x150\",\n",
    "  validation_split=0.2,\n",
    "  subset=\"training\",\n",
    "  seed=123,\n",
    "  image_size=(150, 150),\n",
    "  batch_size=32)"
   ]
  },
  {
   "cell_type": "code",
   "execution_count": null,
   "id": "68af4720",
   "metadata": {},
   "outputs": [],
   "source": [
    "val_ds = tf.keras.utils.image_dataset_from_directory(\"data-150x150\",\n",
    "  validation_split=0.2,\n",
    "  subset=\"validation\",\n",
    "  seed=123,\n",
    "  image_size=(150, 150),\n",
    "  batch_size=32)"
   ]
  },
  {
   "cell_type": "code",
   "execution_count": null,
   "id": "378fd011",
   "metadata": {},
   "outputs": [],
   "source": [
    "AUTOTUNE = tf.data.AUTOTUNE\n",
    "\n",
    "train_ds = train_ds.cache().shuffle(1000).prefetch(buffer_size=AUTOTUNE)\n",
    "val_ds = val_ds.cache().prefetch(buffer_size=AUTOTUNE)"
   ]
  },
  {
   "cell_type": "code",
   "execution_count": null,
   "id": "0bdf2884",
   "metadata": {},
   "outputs": [],
   "source": [
    "data_augmentation = tf.keras.Sequential(\n",
    "  [\n",
    "    tf.keras.layers.RandomFlip(\"horizontal\", input_shape=(150,150,3)),\n",
    "    tf.keras.layers.RandomRotation(0.2),\n",
    "    tf.keras.layers.RandomZoom(0.2),\n",
    "    tf.keras.layers.RandomContrast(0.2),\n",
    "    tf.keras.layers.RandomCrop(120, 120) #height, width\n",
    "  ]\n",
    ")"
   ]
  },
  {
   "cell_type": "code",
   "execution_count": null,
   "id": "13416f35",
   "metadata": {},
   "outputs": [],
   "source": [
    "num_classes = 4\n",
    "models = {}"
   ]
  },
  {
   "cell_type": "code",
   "execution_count": null,
   "id": "42d39ae6",
   "metadata": {},
   "outputs": [],
   "source": [
    "models[\"CNN\"] = tf.keras.Sequential([\n",
    "  #data_augmentation,\n",
    "  tf.keras.layers.RandomFlip(\"horizontal\", input_shape=(150,150,3)),\n",
    "  tf.keras.layers.RandomRotation(0.2),\n",
    "  tf.keras.layers.RandomZoom(0.2),\n",
    "  tf.keras.layers.RandomContrast(0.2),\n",
    "  tf.keras.layers.RandomCrop(120, 120),\n",
    "  tf.keras.layers.Rescaling(1./255, input_shape=(150, 150, 3)),\n",
    "  tf.keras.layers.Conv2D(16, 3, padding='same', activation='relu'),\n",
    "  tf.keras.layers.MaxPooling2D(),\n",
    "  tf.keras.layers.Conv2D(32, 3, padding='same', activation='relu'),\n",
    "  tf.keras.layers.MaxPooling2D(),\n",
    "  tf.keras.layers.Conv2D(64, 3, padding='same', activation='relu'),\n",
    "  tf.keras.layers.MaxPooling2D(),\n",
    "  tf.keras.layers.Conv2D(128, 3, padding='same', activation='relu'),\n",
    "  tf.keras.layers.MaxPooling2D(),\n",
    "  tf.keras.layers.Conv2D(256, 3, padding='same', activation='relu'),\n",
    "  tf.keras.layers.MaxPooling2D(),\n",
    "  tf.keras.layers.Flatten(),\n",
    "  tf.keras.layers.Dense(512, activation='relu'),\n",
    "  tf.keras.layers.Dense(512, activation='relu'),\n",
    "  tf.keras.layers.Dense(num_classes)\n",
    "])"
   ]
  },
  {
   "cell_type": "code",
   "execution_count": null,
   "id": "90365d2a",
   "metadata": {},
   "outputs": [],
   "source": [
    "models[\"MLP\"] = tf.keras.Sequential([\n",
    "    data_augmentation,\n",
    "    tf.keras.layers.Flatten(input_shape=(150, 150, 3)),\n",
    "    tf.keras.layers.Dense(128, activation='relu'),\n",
    "    tf.keras.layers.Dense(256, activation='relu'),\n",
    "    tf.keras.layers.Dense(512, activation='relu'),\n",
    "    tf.keras.layers.Dense(num_classes)\n",
    "])"
   ]
  },
  {
   "cell_type": "code",
   "execution_count": null,
   "id": "0f81adaa",
   "metadata": {},
   "outputs": [],
   "source": [
    "for model in models.values():\n",
    "    model.compile(optimizer='adam',\n",
    "              loss=tf.keras.losses.SparseCategoricalCrossentropy(from_logits=True),\n",
    "              metrics=['accuracy'])"
   ]
  },
  {
   "cell_type": "code",
   "execution_count": null,
   "id": "f8b3bae6",
   "metadata": {},
   "outputs": [],
   "source": [
    "for model in models.values():\n",
    "    model.summary()"
   ]
  },
  {
   "cell_type": "code",
   "execution_count": null,
   "id": "78e3b9ce",
   "metadata": {},
   "outputs": [],
   "source": [
    "epochs=2\n",
    "histories = {}"
   ]
  },
  {
   "cell_type": "code",
   "execution_count": null,
   "id": "5b4da171",
   "metadata": {
    "scrolled": false
   },
   "outputs": [],
   "source": [
    "for name in models:\n",
    "    print(\"Training \"+name+\":\")\n",
    "    model_path = os.path.join(\"saved_models\", name+\".h5\")\n",
    "    history_path = os.path.join(\"saved_histories\", name+\".json\")\n",
    "    #tfjs_target_path = os.path.join(\"web-client\", \"saved_models\", name)\n",
    "    histories[name] = models[name].fit(\n",
    "      train_ds,\n",
    "      validation_data=val_ds,\n",
    "      epochs=epochs,\n",
    "    )\n",
    "    models[name].save(model_path)\n",
    "    #tfjs.converters.save_keras_model(model[name], tfjs_target_path)\n",
    "    json.dump(histories[name].history, open(history_path, 'w'))\n",
    "    print()"
   ]
  },
  {
   "cell_type": "code",
   "execution_count": null,
   "id": "ff583859",
   "metadata": {},
   "outputs": [],
   "source": [
    "for name in histories:\n",
    "    history = histories[name]\n",
    "    acc = history.history['accuracy']\n",
    "    val_acc = history.history['val_accuracy']\n",
    "\n",
    "    loss = history.history['loss']\n",
    "    val_loss = history.history['val_loss']\n",
    "\n",
    "    epochs_range = range(epochs)\n",
    "\n",
    "    pyplot.figure(figsize=(8, 8))\n",
    "    pyplot.subplot(1, 2, 1)\n",
    "    pyplot.plot(epochs_range, acc, label='Training Accuracy')\n",
    "    pyplot.plot(epochs_range, val_acc, label='Validation Accuracy')\n",
    "    pyplot.legend(loc='lower right')\n",
    "    pyplot.title(name+': Training and Validation Accuracy')\n",
    "\n",
    "    pyplot.subplot(1, 2, 2)\n",
    "    pyplot.plot(epochs_range, loss, label='Training Loss')\n",
    "    pyplot.plot(epochs_range, val_loss, label='Validation Loss')\n",
    "    pyplot.legend(loc='upper right')\n",
    "    pyplot.title(name+': Training and Validation Loss')\n",
    "    pyplot.show()"
   ]
  },
  {
   "cell_type": "code",
   "execution_count": null,
   "id": "2666dbf2",
   "metadata": {},
   "outputs": [],
   "source": [
    "class_names = [\"Wearing Mask a Correctly Over Mouth and Nose\", \"Wearing Mask a Over Mouth, but not Over Nose\", \"Not Wearing a Mask Over Mount and Nose\", \"Not Wearing a Mask\"]"
   ]
  },
  {
   "cell_type": "code",
   "execution_count": null,
   "id": "04cbe19d",
   "metadata": {},
   "outputs": [],
   "source": [
    "def predict(file_path):\n",
    "    \n",
    "    img = tf.keras.utils.load_img(file_path, target_size=(150, 150))\n",
    "    pyplot.imshow(img)\n",
    "\n",
    "    img_array = tf.keras.utils.img_to_array(img)\n",
    "    img_array = tf.expand_dims(img_array, 0)\n",
    "    \n",
    "    for name in models:\n",
    "        model = models[name]\n",
    "        predictions = model.predict(img_array)\n",
    "        score = tf.nn.softmax(predictions[0])\n",
    "\n",
    "\n",
    "        print(\n",
    "            \"{} predicts {} ({:.2f}% confidence)\"\n",
    "            .format(name, class_names[np.argmax(score)], 100 * np.max(score))\n",
    "        )\n",
    "    pyplot.show()"
   ]
  },
  {
   "cell_type": "code",
   "execution_count": null,
   "id": "7a92adbf",
   "metadata": {},
   "outputs": [],
   "source": [
    "predict(\"faces/benjamin/1.jpg\")"
   ]
  },
  {
   "cell_type": "code",
   "execution_count": null,
   "id": "980c0fdf",
   "metadata": {},
   "outputs": [],
   "source": [
    "predict(\"faces/benjamin/2.jpg\")"
   ]
  },
  {
   "cell_type": "code",
   "execution_count": null,
   "id": "d96091da",
   "metadata": {},
   "outputs": [],
   "source": [
    "predict(\"faces/benjamin/3.jpg\")"
   ]
  },
  {
   "cell_type": "code",
   "execution_count": null,
   "id": "a89b28a0",
   "metadata": {},
   "outputs": [],
   "source": [
    "predict(\"faces/benjamin/4.jpg\")"
   ]
  },
  {
   "cell_type": "code",
   "execution_count": null,
   "id": "16d1996e",
   "metadata": {},
   "outputs": [],
   "source": [
    "predict(\"faces/shaurya/1.jpg\")"
   ]
  },
  {
   "cell_type": "code",
   "execution_count": null,
   "id": "9ca8be90",
   "metadata": {},
   "outputs": [],
   "source": [
    "predict(\"faces/shaurya/2.jpg\")"
   ]
  },
  {
   "cell_type": "code",
   "execution_count": null,
   "id": "ba0939ed",
   "metadata": {},
   "outputs": [],
   "source": [
    "predict(\"faces/shaurya/3.jpg\")"
   ]
  },
  {
   "cell_type": "code",
   "execution_count": null,
   "id": "48255e4e",
   "metadata": {},
   "outputs": [],
   "source": [
    "predict(\"faces/shaurya/4.jpg\")"
   ]
  },
  {
   "cell_type": "code",
   "execution_count": null,
   "id": "58880e06",
   "metadata": {},
   "outputs": [],
   "source": [
    "predict(\"faces/zunyi/1.jpg\")"
   ]
  },
  {
   "cell_type": "code",
   "execution_count": null,
   "id": "5e69493f",
   "metadata": {},
   "outputs": [],
   "source": [
    "predict(\"faces/zunyi/2.jpg\")"
   ]
  },
  {
   "cell_type": "code",
   "execution_count": null,
   "id": "33e99a00",
   "metadata": {},
   "outputs": [],
   "source": [
    "predict(\"faces/zunyi/3.jpg\")"
   ]
  },
  {
   "cell_type": "code",
   "execution_count": null,
   "id": "1179e6b2",
   "metadata": {},
   "outputs": [],
   "source": [
    "predict(\"faces/zunyi/4.jpg\")"
   ]
  },
  {
   "cell_type": "code",
   "execution_count": null,
   "id": "90d94d70",
   "metadata": {},
   "outputs": [],
   "source": [
    "predict(\"faces/parisa/1.jpg\")"
   ]
  },
  {
   "cell_type": "code",
   "execution_count": null,
   "id": "e279de08",
   "metadata": {},
   "outputs": [],
   "source": [
    "predict(\"faces/parisa/2.jpg\")"
   ]
  },
  {
   "cell_type": "code",
   "execution_count": null,
   "id": "ff0cc480",
   "metadata": {},
   "outputs": [],
   "source": [
    "predict(\"faces/parisa/3.jpg\")"
   ]
  },
  {
   "cell_type": "markdown",
   "id": "636a17c2",
   "metadata": {},
   "source": [
    "## Source: https://www.tensorflow.org/tutorials/images/classification"
   ]
  }
 ],
 "metadata": {
  "kernelspec": {
   "display_name": "Python 3",
   "language": "python",
   "name": "python3"
  },
  "language_info": {
   "codemirror_mode": {
    "name": "ipython",
    "version": 3
   },
   "file_extension": ".py",
   "mimetype": "text/x-python",
   "name": "python",
   "nbconvert_exporter": "python",
   "pygments_lexer": "ipython3",
   "version": "3.8.10"
  }
 },
 "nbformat": 4,
 "nbformat_minor": 5
}
